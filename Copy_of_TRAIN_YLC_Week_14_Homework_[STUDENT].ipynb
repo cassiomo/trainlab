{
  "nbformat": 4,
  "nbformat_minor": 0,
  "metadata": {
    "colab": {
      "provenance": [],
      "toc_visible": true,
      "include_colab_link": true
    },
    "kernelspec": {
      "name": "python3",
      "display_name": "Python 3"
    },
    "language_info": {
      "name": "python"
    }
  },
  "cells": [
    {
      "cell_type": "markdown",
      "metadata": {
        "id": "view-in-github",
        "colab_type": "text"
      },
      "source": [
        "<a href=\"https://colab.research.google.com/github/cassiomo/trainlab/blob/main/Copy_of_TRAIN_YLC_Week_14_Homework_%5BSTUDENT%5D.ipynb\" target=\"_parent\"><img src=\"https://colab.research.google.com/assets/colab-badge.svg\" alt=\"Open In Colab\"/></a>"
      ]
    },
    {
      "cell_type": "markdown",
      "source": [
        "# **Homework 14: Data Wrangling**\n",
        "---\n",
        "### **Description**\n",
        "This notebook is designed to provide hands-on experience in data wrangling using pandas. You will execute different data wrangling tasks including data cleaning, feature engineering, and feature selection.\n",
        "\n",
        "\n",
        "\n",
        "### **Structure**\n",
        "**Part 1**: [Salary Dataset](#p1)\n",
        "\n",
        "**Part 2**: [Additional Practice](#p2)\n",
        "\n",
        "\n",
        "\n",
        "\n",
        "\n",
        "<br>\n",
        "\n",
        "\n",
        "### **Resources**\n",
        "* [Data Wrangling with pandas](https://docs.google.com/document/d/1Ku2E1Dev0Xo8HOmIkq5jA-FaKwhD_cJkPkXBjTWECdQ/edit?usp=sharing)\n",
        "\n",
        "<br>\n",
        "\n",
        "**Before starting, run the code below to import all necessary functions and libraries.**\n"
      ],
      "metadata": {
        "id": "S9AZ8cbjKYr7"
      }
    },
    {
      "cell_type": "code",
      "source": [
        "import pandas as pd\n",
        "from sklearn import datasets\n",
        "import numpy as np"
      ],
      "metadata": {
        "id": "dw6gI95Veo1E"
      },
      "execution_count": 1,
      "outputs": []
    },
    {
      "cell_type": "markdown",
      "source": [
        "<a name=\"p1\"></a>\n",
        "\n",
        "---\n",
        "## **Part 1: Salary Dataset**\n",
        "---\n",
        "\n",
        "\n",
        "**Run the cell below to load the DataFrame before continuing.**"
      ],
      "metadata": {
        "id": "VRWhnEk5XMJZ"
      }
    },
    {
      "cell_type": "code",
      "source": [
        "df = pd.DataFrame({\n",
        "    'Age': [25, 30, np.nan, 45, 50, np.nan, 35, 40, np.nan, 55],\n",
        "    'Salary': [50000, 60000, 55000, np.nan, 65000, 70000, 45000, 80000, np.nan, 90000],\n",
        "    'Experience': [2, 4, 3, 5, 6, 4, 1, 7, 8, 5],\n",
        "    'Department': ['Sales', 'HR', 'IT', 'Marketing', 'IT', 'Sales', 'HR', 'HR', 'Marketing', 'IT']\n",
        "})\n",
        "\n",
        "df"
      ],
      "metadata": {
        "id": "T7pt9cd_aWry",
        "colab": {
          "base_uri": "https://localhost:8080/",
          "height": 363
        },
        "outputId": "de99ad0d-5f96-46f3-e8ee-225418176069"
      },
      "execution_count": 2,
      "outputs": [
        {
          "output_type": "execute_result",
          "data": {
            "text/plain": [
              "    Age   Salary  Experience Department\n",
              "0  25.0  50000.0           2      Sales\n",
              "1  30.0  60000.0           4         HR\n",
              "2   NaN  55000.0           3         IT\n",
              "3  45.0      NaN           5  Marketing\n",
              "4  50.0  65000.0           6         IT\n",
              "5   NaN  70000.0           4      Sales\n",
              "6  35.0  45000.0           1         HR\n",
              "7  40.0  80000.0           7         HR\n",
              "8   NaN      NaN           8  Marketing\n",
              "9  55.0  90000.0           5         IT"
            ],
            "text/html": [
              "\n",
              "  <div id=\"df-c66e510b-78c8-438a-bc30-776d77b821e3\" class=\"colab-df-container\">\n",
              "    <div>\n",
              "<style scoped>\n",
              "    .dataframe tbody tr th:only-of-type {\n",
              "        vertical-align: middle;\n",
              "    }\n",
              "\n",
              "    .dataframe tbody tr th {\n",
              "        vertical-align: top;\n",
              "    }\n",
              "\n",
              "    .dataframe thead th {\n",
              "        text-align: right;\n",
              "    }\n",
              "</style>\n",
              "<table border=\"1\" class=\"dataframe\">\n",
              "  <thead>\n",
              "    <tr style=\"text-align: right;\">\n",
              "      <th></th>\n",
              "      <th>Age</th>\n",
              "      <th>Salary</th>\n",
              "      <th>Experience</th>\n",
              "      <th>Department</th>\n",
              "    </tr>\n",
              "  </thead>\n",
              "  <tbody>\n",
              "    <tr>\n",
              "      <th>0</th>\n",
              "      <td>25.0</td>\n",
              "      <td>50000.0</td>\n",
              "      <td>2</td>\n",
              "      <td>Sales</td>\n",
              "    </tr>\n",
              "    <tr>\n",
              "      <th>1</th>\n",
              "      <td>30.0</td>\n",
              "      <td>60000.0</td>\n",
              "      <td>4</td>\n",
              "      <td>HR</td>\n",
              "    </tr>\n",
              "    <tr>\n",
              "      <th>2</th>\n",
              "      <td>NaN</td>\n",
              "      <td>55000.0</td>\n",
              "      <td>3</td>\n",
              "      <td>IT</td>\n",
              "    </tr>\n",
              "    <tr>\n",
              "      <th>3</th>\n",
              "      <td>45.0</td>\n",
              "      <td>NaN</td>\n",
              "      <td>5</td>\n",
              "      <td>Marketing</td>\n",
              "    </tr>\n",
              "    <tr>\n",
              "      <th>4</th>\n",
              "      <td>50.0</td>\n",
              "      <td>65000.0</td>\n",
              "      <td>6</td>\n",
              "      <td>IT</td>\n",
              "    </tr>\n",
              "    <tr>\n",
              "      <th>5</th>\n",
              "      <td>NaN</td>\n",
              "      <td>70000.0</td>\n",
              "      <td>4</td>\n",
              "      <td>Sales</td>\n",
              "    </tr>\n",
              "    <tr>\n",
              "      <th>6</th>\n",
              "      <td>35.0</td>\n",
              "      <td>45000.0</td>\n",
              "      <td>1</td>\n",
              "      <td>HR</td>\n",
              "    </tr>\n",
              "    <tr>\n",
              "      <th>7</th>\n",
              "      <td>40.0</td>\n",
              "      <td>80000.0</td>\n",
              "      <td>7</td>\n",
              "      <td>HR</td>\n",
              "    </tr>\n",
              "    <tr>\n",
              "      <th>8</th>\n",
              "      <td>NaN</td>\n",
              "      <td>NaN</td>\n",
              "      <td>8</td>\n",
              "      <td>Marketing</td>\n",
              "    </tr>\n",
              "    <tr>\n",
              "      <th>9</th>\n",
              "      <td>55.0</td>\n",
              "      <td>90000.0</td>\n",
              "      <td>5</td>\n",
              "      <td>IT</td>\n",
              "    </tr>\n",
              "  </tbody>\n",
              "</table>\n",
              "</div>\n",
              "    <div class=\"colab-df-buttons\">\n",
              "\n",
              "  <div class=\"colab-df-container\">\n",
              "    <button class=\"colab-df-convert\" onclick=\"convertToInteractive('df-c66e510b-78c8-438a-bc30-776d77b821e3')\"\n",
              "            title=\"Convert this dataframe to an interactive table.\"\n",
              "            style=\"display:none;\">\n",
              "\n",
              "  <svg xmlns=\"http://www.w3.org/2000/svg\" height=\"24px\" viewBox=\"0 -960 960 960\">\n",
              "    <path d=\"M120-120v-720h720v720H120Zm60-500h600v-160H180v160Zm220 220h160v-160H400v160Zm0 220h160v-160H400v160ZM180-400h160v-160H180v160Zm440 0h160v-160H620v160ZM180-180h160v-160H180v160Zm440 0h160v-160H620v160Z\"/>\n",
              "  </svg>\n",
              "    </button>\n",
              "\n",
              "  <style>\n",
              "    .colab-df-container {\n",
              "      display:flex;\n",
              "      gap: 12px;\n",
              "    }\n",
              "\n",
              "    .colab-df-convert {\n",
              "      background-color: #E8F0FE;\n",
              "      border: none;\n",
              "      border-radius: 50%;\n",
              "      cursor: pointer;\n",
              "      display: none;\n",
              "      fill: #1967D2;\n",
              "      height: 32px;\n",
              "      padding: 0 0 0 0;\n",
              "      width: 32px;\n",
              "    }\n",
              "\n",
              "    .colab-df-convert:hover {\n",
              "      background-color: #E2EBFA;\n",
              "      box-shadow: 0px 1px 2px rgba(60, 64, 67, 0.3), 0px 1px 3px 1px rgba(60, 64, 67, 0.15);\n",
              "      fill: #174EA6;\n",
              "    }\n",
              "\n",
              "    .colab-df-buttons div {\n",
              "      margin-bottom: 4px;\n",
              "    }\n",
              "\n",
              "    [theme=dark] .colab-df-convert {\n",
              "      background-color: #3B4455;\n",
              "      fill: #D2E3FC;\n",
              "    }\n",
              "\n",
              "    [theme=dark] .colab-df-convert:hover {\n",
              "      background-color: #434B5C;\n",
              "      box-shadow: 0px 1px 3px 1px rgba(0, 0, 0, 0.15);\n",
              "      filter: drop-shadow(0px 1px 2px rgba(0, 0, 0, 0.3));\n",
              "      fill: #FFFFFF;\n",
              "    }\n",
              "  </style>\n",
              "\n",
              "    <script>\n",
              "      const buttonEl =\n",
              "        document.querySelector('#df-c66e510b-78c8-438a-bc30-776d77b821e3 button.colab-df-convert');\n",
              "      buttonEl.style.display =\n",
              "        google.colab.kernel.accessAllowed ? 'block' : 'none';\n",
              "\n",
              "      async function convertToInteractive(key) {\n",
              "        const element = document.querySelector('#df-c66e510b-78c8-438a-bc30-776d77b821e3');\n",
              "        const dataTable =\n",
              "          await google.colab.kernel.invokeFunction('convertToInteractive',\n",
              "                                                    [key], {});\n",
              "        if (!dataTable) return;\n",
              "\n",
              "        const docLinkHtml = 'Like what you see? Visit the ' +\n",
              "          '<a target=\"_blank\" href=https://colab.research.google.com/notebooks/data_table.ipynb>data table notebook</a>'\n",
              "          + ' to learn more about interactive tables.';\n",
              "        element.innerHTML = '';\n",
              "        dataTable['output_type'] = 'display_data';\n",
              "        await google.colab.output.renderOutput(dataTable, element);\n",
              "        const docLink = document.createElement('div');\n",
              "        docLink.innerHTML = docLinkHtml;\n",
              "        element.appendChild(docLink);\n",
              "      }\n",
              "    </script>\n",
              "  </div>\n",
              "\n",
              "\n",
              "<div id=\"df-f40cefdd-0fa7-4efb-993d-bb2d0246f81c\">\n",
              "  <button class=\"colab-df-quickchart\" onclick=\"quickchart('df-f40cefdd-0fa7-4efb-993d-bb2d0246f81c')\"\n",
              "            title=\"Suggest charts\"\n",
              "            style=\"display:none;\">\n",
              "\n",
              "<svg xmlns=\"http://www.w3.org/2000/svg\" height=\"24px\"viewBox=\"0 0 24 24\"\n",
              "     width=\"24px\">\n",
              "    <g>\n",
              "        <path d=\"M19 3H5c-1.1 0-2 .9-2 2v14c0 1.1.9 2 2 2h14c1.1 0 2-.9 2-2V5c0-1.1-.9-2-2-2zM9 17H7v-7h2v7zm4 0h-2V7h2v10zm4 0h-2v-4h2v4z\"/>\n",
              "    </g>\n",
              "</svg>\n",
              "  </button>\n",
              "\n",
              "<style>\n",
              "  .colab-df-quickchart {\n",
              "      --bg-color: #E8F0FE;\n",
              "      --fill-color: #1967D2;\n",
              "      --hover-bg-color: #E2EBFA;\n",
              "      --hover-fill-color: #174EA6;\n",
              "      --disabled-fill-color: #AAA;\n",
              "      --disabled-bg-color: #DDD;\n",
              "  }\n",
              "\n",
              "  [theme=dark] .colab-df-quickchart {\n",
              "      --bg-color: #3B4455;\n",
              "      --fill-color: #D2E3FC;\n",
              "      --hover-bg-color: #434B5C;\n",
              "      --hover-fill-color: #FFFFFF;\n",
              "      --disabled-bg-color: #3B4455;\n",
              "      --disabled-fill-color: #666;\n",
              "  }\n",
              "\n",
              "  .colab-df-quickchart {\n",
              "    background-color: var(--bg-color);\n",
              "    border: none;\n",
              "    border-radius: 50%;\n",
              "    cursor: pointer;\n",
              "    display: none;\n",
              "    fill: var(--fill-color);\n",
              "    height: 32px;\n",
              "    padding: 0;\n",
              "    width: 32px;\n",
              "  }\n",
              "\n",
              "  .colab-df-quickchart:hover {\n",
              "    background-color: var(--hover-bg-color);\n",
              "    box-shadow: 0 1px 2px rgba(60, 64, 67, 0.3), 0 1px 3px 1px rgba(60, 64, 67, 0.15);\n",
              "    fill: var(--button-hover-fill-color);\n",
              "  }\n",
              "\n",
              "  .colab-df-quickchart-complete:disabled,\n",
              "  .colab-df-quickchart-complete:disabled:hover {\n",
              "    background-color: var(--disabled-bg-color);\n",
              "    fill: var(--disabled-fill-color);\n",
              "    box-shadow: none;\n",
              "  }\n",
              "\n",
              "  .colab-df-spinner {\n",
              "    border: 2px solid var(--fill-color);\n",
              "    border-color: transparent;\n",
              "    border-bottom-color: var(--fill-color);\n",
              "    animation:\n",
              "      spin 1s steps(1) infinite;\n",
              "  }\n",
              "\n",
              "  @keyframes spin {\n",
              "    0% {\n",
              "      border-color: transparent;\n",
              "      border-bottom-color: var(--fill-color);\n",
              "      border-left-color: var(--fill-color);\n",
              "    }\n",
              "    20% {\n",
              "      border-color: transparent;\n",
              "      border-left-color: var(--fill-color);\n",
              "      border-top-color: var(--fill-color);\n",
              "    }\n",
              "    30% {\n",
              "      border-color: transparent;\n",
              "      border-left-color: var(--fill-color);\n",
              "      border-top-color: var(--fill-color);\n",
              "      border-right-color: var(--fill-color);\n",
              "    }\n",
              "    40% {\n",
              "      border-color: transparent;\n",
              "      border-right-color: var(--fill-color);\n",
              "      border-top-color: var(--fill-color);\n",
              "    }\n",
              "    60% {\n",
              "      border-color: transparent;\n",
              "      border-right-color: var(--fill-color);\n",
              "    }\n",
              "    80% {\n",
              "      border-color: transparent;\n",
              "      border-right-color: var(--fill-color);\n",
              "      border-bottom-color: var(--fill-color);\n",
              "    }\n",
              "    90% {\n",
              "      border-color: transparent;\n",
              "      border-bottom-color: var(--fill-color);\n",
              "    }\n",
              "  }\n",
              "</style>\n",
              "\n",
              "  <script>\n",
              "    async function quickchart(key) {\n",
              "      const quickchartButtonEl =\n",
              "        document.querySelector('#' + key + ' button');\n",
              "      quickchartButtonEl.disabled = true;  // To prevent multiple clicks.\n",
              "      quickchartButtonEl.classList.add('colab-df-spinner');\n",
              "      try {\n",
              "        const charts = await google.colab.kernel.invokeFunction(\n",
              "            'suggestCharts', [key], {});\n",
              "      } catch (error) {\n",
              "        console.error('Error during call to suggestCharts:', error);\n",
              "      }\n",
              "      quickchartButtonEl.classList.remove('colab-df-spinner');\n",
              "      quickchartButtonEl.classList.add('colab-df-quickchart-complete');\n",
              "    }\n",
              "    (() => {\n",
              "      let quickchartButtonEl =\n",
              "        document.querySelector('#df-f40cefdd-0fa7-4efb-993d-bb2d0246f81c button');\n",
              "      quickchartButtonEl.style.display =\n",
              "        google.colab.kernel.accessAllowed ? 'block' : 'none';\n",
              "    })();\n",
              "  </script>\n",
              "</div>\n",
              "\n",
              "  <div id=\"id_724d8c20-ff28-4c2d-86b4-df0a7120913b\">\n",
              "    <style>\n",
              "      .colab-df-generate {\n",
              "        background-color: #E8F0FE;\n",
              "        border: none;\n",
              "        border-radius: 50%;\n",
              "        cursor: pointer;\n",
              "        display: none;\n",
              "        fill: #1967D2;\n",
              "        height: 32px;\n",
              "        padding: 0 0 0 0;\n",
              "        width: 32px;\n",
              "      }\n",
              "\n",
              "      .colab-df-generate:hover {\n",
              "        background-color: #E2EBFA;\n",
              "        box-shadow: 0px 1px 2px rgba(60, 64, 67, 0.3), 0px 1px 3px 1px rgba(60, 64, 67, 0.15);\n",
              "        fill: #174EA6;\n",
              "      }\n",
              "\n",
              "      [theme=dark] .colab-df-generate {\n",
              "        background-color: #3B4455;\n",
              "        fill: #D2E3FC;\n",
              "      }\n",
              "\n",
              "      [theme=dark] .colab-df-generate:hover {\n",
              "        background-color: #434B5C;\n",
              "        box-shadow: 0px 1px 3px 1px rgba(0, 0, 0, 0.15);\n",
              "        filter: drop-shadow(0px 1px 2px rgba(0, 0, 0, 0.3));\n",
              "        fill: #FFFFFF;\n",
              "      }\n",
              "    </style>\n",
              "    <button class=\"colab-df-generate\" onclick=\"generateWithVariable('df')\"\n",
              "            title=\"Generate code using this dataframe.\"\n",
              "            style=\"display:none;\">\n",
              "\n",
              "  <svg xmlns=\"http://www.w3.org/2000/svg\" height=\"24px\"viewBox=\"0 0 24 24\"\n",
              "       width=\"24px\">\n",
              "    <path d=\"M7,19H8.4L18.45,9,17,7.55,7,17.6ZM5,21V16.75L18.45,3.32a2,2,0,0,1,2.83,0l1.4,1.43a1.91,1.91,0,0,1,.58,1.4,1.91,1.91,0,0,1-.58,1.4L9.25,21ZM18.45,9,17,7.55Zm-12,3A5.31,5.31,0,0,0,4.9,8.1,5.31,5.31,0,0,0,1,6.5,5.31,5.31,0,0,0,4.9,4.9,5.31,5.31,0,0,0,6.5,1,5.31,5.31,0,0,0,8.1,4.9,5.31,5.31,0,0,0,12,6.5,5.46,5.46,0,0,0,6.5,12Z\"/>\n",
              "  </svg>\n",
              "    </button>\n",
              "    <script>\n",
              "      (() => {\n",
              "      const buttonEl =\n",
              "        document.querySelector('#id_724d8c20-ff28-4c2d-86b4-df0a7120913b button.colab-df-generate');\n",
              "      buttonEl.style.display =\n",
              "        google.colab.kernel.accessAllowed ? 'block' : 'none';\n",
              "\n",
              "      buttonEl.onclick = () => {\n",
              "        google.colab.notebook.generateWithVariable('df');\n",
              "      }\n",
              "      })();\n",
              "    </script>\n",
              "  </div>\n",
              "\n",
              "    </div>\n",
              "  </div>\n"
            ]
          },
          "metadata": {},
          "execution_count": 2
        }
      ]
    },
    {
      "cell_type": "markdown",
      "source": [
        "### **Problem #1.1**\n",
        "\n",
        "Identify which cells in the DataFrame contain missing values."
      ],
      "metadata": {
        "id": "txxZ8Tt7SpHX"
      }
    },
    {
      "cell_type": "code",
      "source": [
        "missing_values = df.isnull()\n",
        "print(missing_values)"
      ],
      "metadata": {
        "id": "3seP-hhEStPm",
        "colab": {
          "base_uri": "https://localhost:8080/"
        },
        "outputId": "a9fcf931-6cea-4e08-83c2-bff05393f2fe"
      },
      "execution_count": 3,
      "outputs": [
        {
          "output_type": "stream",
          "name": "stdout",
          "text": [
            "     Age  Salary  Experience  Department\n",
            "0  False   False       False       False\n",
            "1  False   False       False       False\n",
            "2   True   False       False       False\n",
            "3  False    True       False       False\n",
            "4  False   False       False       False\n",
            "5   True   False       False       False\n",
            "6  False   False       False       False\n",
            "7  False   False       False       False\n",
            "8   True    True       False       False\n",
            "9  False   False       False       False\n"
          ]
        }
      ]
    },
    {
      "cell_type": "markdown",
      "source": [
        "### **Problem #1.2**\n",
        "\n",
        "Drop all rows from the DataFrame where the 'Age' column has missing data."
      ],
      "metadata": {
        "id": "1t4gLFwXaWyT"
      }
    },
    {
      "cell_type": "code",
      "source": [
        "df_filtered = df.dropna(subset=['Age'])\n",
        "print(df_filtered)"
      ],
      "metadata": {
        "id": "PZf7PoFEuYqW",
        "colab": {
          "base_uri": "https://localhost:8080/"
        },
        "outputId": "7c4772c1-7631-4775-e389-219fc1e02c34"
      },
      "execution_count": 5,
      "outputs": [
        {
          "output_type": "stream",
          "name": "stdout",
          "text": [
            "    Age   Salary  Experience Department\n",
            "0  25.0  50000.0           2      Sales\n",
            "1  30.0  60000.0           4         HR\n",
            "3  45.0      NaN           5  Marketing\n",
            "4  50.0  65000.0           6         IT\n",
            "6  35.0  45000.0           1         HR\n",
            "7  40.0  80000.0           7         HR\n",
            "9  55.0  90000.0           5         IT\n"
          ]
        }
      ]
    },
    {
      "cell_type": "markdown",
      "source": [
        "### **Problem #1.3**\n",
        "\n",
        "Calculate the mean salary and use this value to fill in any missing salaries in the DataFrame."
      ],
      "metadata": {
        "id": "t7Ac-Cpq4z-X"
      }
    },
    {
      "cell_type": "code",
      "source": [
        "mean_salary = df['Salary'].mean()\n",
        "\n",
        "df['Salary'].fillna(mean_salary, inplace=True)\n",
        "print(df)"
      ],
      "metadata": {
        "id": "dfcSUx6p4z-j",
        "colab": {
          "base_uri": "https://localhost:8080/"
        },
        "outputId": "739e571b-cf12-4053-faae-74861fc125ef"
      },
      "execution_count": 6,
      "outputs": [
        {
          "output_type": "stream",
          "name": "stdout",
          "text": [
            "    Age   Salary  Experience Department\n",
            "0  25.0  50000.0           2      Sales\n",
            "1  30.0  60000.0           4         HR\n",
            "2   NaN  55000.0           3         IT\n",
            "3  45.0  64375.0           5  Marketing\n",
            "4  50.0  65000.0           6         IT\n",
            "5   NaN  70000.0           4      Sales\n",
            "6  35.0  45000.0           1         HR\n",
            "7  40.0  80000.0           7         HR\n",
            "8   NaN  64375.0           8  Marketing\n",
            "9  55.0  90000.0           5         IT\n"
          ]
        }
      ]
    },
    {
      "cell_type": "markdown",
      "source": [
        "### **Problem #1.4**\n",
        "\n",
        "Rename the 'Department' column to 'Dept'."
      ],
      "metadata": {
        "id": "xnC6adFs7XtI"
      }
    },
    {
      "cell_type": "code",
      "source": [
        "df.rename(columns={'Department': 'Dept'}, inplace=True)\n",
        "\n",
        "print(df)"
      ],
      "metadata": {
        "id": "aEsE-4em7lqT",
        "colab": {
          "base_uri": "https://localhost:8080/"
        },
        "outputId": "c375e475-cad8-4938-a1c7-12b3d3aadf6d"
      },
      "execution_count": 7,
      "outputs": [
        {
          "output_type": "stream",
          "name": "stdout",
          "text": [
            "    Age   Salary  Experience       Dept\n",
            "0  25.0  50000.0           2      Sales\n",
            "1  30.0  60000.0           4         HR\n",
            "2   NaN  55000.0           3         IT\n",
            "3  45.0  64375.0           5  Marketing\n",
            "4  50.0  65000.0           6         IT\n",
            "5   NaN  70000.0           4      Sales\n",
            "6  35.0  45000.0           1         HR\n",
            "7  40.0  80000.0           7         HR\n",
            "8   NaN  64375.0           8  Marketing\n",
            "9  55.0  90000.0           5         IT\n"
          ]
        }
      ]
    },
    {
      "cell_type": "markdown",
      "source": [
        "### **Problem #1.5**\n",
        "\n",
        "Find and remove any duplicate rows in the DataFrame."
      ],
      "metadata": {
        "id": "ybhpD8wLbPbV"
      }
    },
    {
      "cell_type": "code",
      "source": [
        "df_no_duplicates = df.drop_duplicates()\n",
        "\n",
        "print(df_no_duplicates)"
      ],
      "metadata": {
        "id": "v1meELQKbTjy",
        "colab": {
          "base_uri": "https://localhost:8080/"
        },
        "outputId": "ac795056-e5e0-41af-f307-cb263708c0b8"
      },
      "execution_count": 8,
      "outputs": [
        {
          "output_type": "stream",
          "name": "stdout",
          "text": [
            "    Age   Salary  Experience       Dept\n",
            "0  25.0  50000.0           2      Sales\n",
            "1  30.0  60000.0           4         HR\n",
            "2   NaN  55000.0           3         IT\n",
            "3  45.0  64375.0           5  Marketing\n",
            "4  50.0  65000.0           6         IT\n",
            "5   NaN  70000.0           4      Sales\n",
            "6  35.0  45000.0           1         HR\n",
            "7  40.0  80000.0           7         HR\n",
            "8   NaN  64375.0           8  Marketing\n",
            "9  55.0  90000.0           5         IT\n"
          ]
        }
      ]
    },
    {
      "cell_type": "markdown",
      "source": [
        "### **Problem #1.6**\n",
        "\n",
        "Create a new column `Salary_Per_Year_Experience` by dividing the `Salary` column by the `Experience` column."
      ],
      "metadata": {
        "id": "VfXQBWVvS-64"
      }
    },
    {
      "cell_type": "code",
      "source": [
        "df['Salary_Per_Year_Experience'] = df['Salary'] / df['Experience']\n",
        "\n",
        "print (df)"
      ],
      "metadata": {
        "id": "BF88yDoZS-7N",
        "colab": {
          "base_uri": "https://localhost:8080/"
        },
        "outputId": "439ef596-68b0-4a90-be71-6444a853ad4a"
      },
      "execution_count": 9,
      "outputs": [
        {
          "output_type": "stream",
          "name": "stdout",
          "text": [
            "    Age   Salary  Experience       Dept  Salary_Per_Year_Experience\n",
            "0  25.0  50000.0           2      Sales                25000.000000\n",
            "1  30.0  60000.0           4         HR                15000.000000\n",
            "2   NaN  55000.0           3         IT                18333.333333\n",
            "3  45.0  64375.0           5  Marketing                12875.000000\n",
            "4  50.0  65000.0           6         IT                10833.333333\n",
            "5   NaN  70000.0           4      Sales                17500.000000\n",
            "6  35.0  45000.0           1         HR                45000.000000\n",
            "7  40.0  80000.0           7         HR                11428.571429\n",
            "8   NaN  64375.0           8  Marketing                 8046.875000\n",
            "9  55.0  90000.0           5         IT                18000.000000\n"
          ]
        }
      ]
    },
    {
      "cell_type": "markdown",
      "source": [
        "### **Problem #1.7**\n",
        "\n",
        "Add 2 years to the `Experience` column and store the result in a new column `Adjusted_Experience`."
      ],
      "metadata": {
        "id": "JFPnUcBiTJpC"
      }
    },
    {
      "cell_type": "code",
      "source": [
        "df['Adjusted_Experience'] = df['Experience'] + 2\n",
        "print(df)"
      ],
      "metadata": {
        "id": "W0U0DRZDTJpQ",
        "colab": {
          "base_uri": "https://localhost:8080/"
        },
        "outputId": "42712854-2554-4695-e576-468cecadc43a"
      },
      "execution_count": 10,
      "outputs": [
        {
          "output_type": "stream",
          "name": "stdout",
          "text": [
            "    Age   Salary  Experience       Dept  Salary_Per_Year_Experience  \\\n",
            "0  25.0  50000.0           2      Sales                25000.000000   \n",
            "1  30.0  60000.0           4         HR                15000.000000   \n",
            "2   NaN  55000.0           3         IT                18333.333333   \n",
            "3  45.0  64375.0           5  Marketing                12875.000000   \n",
            "4  50.0  65000.0           6         IT                10833.333333   \n",
            "5   NaN  70000.0           4      Sales                17500.000000   \n",
            "6  35.0  45000.0           1         HR                45000.000000   \n",
            "7  40.0  80000.0           7         HR                11428.571429   \n",
            "8   NaN  64375.0           8  Marketing                 8046.875000   \n",
            "9  55.0  90000.0           5         IT                18000.000000   \n",
            "\n",
            "   Adjusted_Experience  \n",
            "0                    4  \n",
            "1                    6  \n",
            "2                    5  \n",
            "3                    7  \n",
            "4                    8  \n",
            "5                    6  \n",
            "6                    3  \n",
            "7                    9  \n",
            "8                   10  \n",
            "9                    7  \n"
          ]
        }
      ]
    },
    {
      "cell_type": "markdown",
      "source": [
        "### **Problem #1.8**\n",
        "\n",
        "Remove the `Experience` column from the DataFrame."
      ],
      "metadata": {
        "id": "W-Q0UCEYTR8_"
      }
    },
    {
      "cell_type": "code",
      "source": [
        "# Remove the 'Experience' column\n",
        "df = df.drop(columns=['Experience'])\n",
        "\n",
        "# Display the DataFrame without the 'Experience' column\n",
        "print(df)"
      ],
      "metadata": {
        "id": "hLX7a6EkTR9K",
        "colab": {
          "base_uri": "https://localhost:8080/"
        },
        "outputId": "18c2ad25-fc8f-4792-bb8e-41f9166ec238"
      },
      "execution_count": 12,
      "outputs": [
        {
          "output_type": "stream",
          "name": "stdout",
          "text": [
            "    Age   Salary       Dept  Salary_Per_Year_Experience  Adjusted_Experience\n",
            "0  25.0  50000.0      Sales                25000.000000                    4\n",
            "1  30.0  60000.0         HR                15000.000000                    6\n",
            "2   NaN  55000.0         IT                18333.333333                    5\n",
            "3  45.0  64375.0  Marketing                12875.000000                    7\n",
            "4  50.0  65000.0         IT                10833.333333                    8\n",
            "5   NaN  70000.0      Sales                17500.000000                    6\n",
            "6  35.0  45000.0         HR                45000.000000                    3\n",
            "7  40.0  80000.0         HR                11428.571429                    9\n",
            "8   NaN  64375.0  Marketing                 8046.875000                   10\n",
            "9  55.0  90000.0         IT                18000.000000                    7\n"
          ]
        }
      ]
    },
    {
      "cell_type": "markdown",
      "metadata": {
        "id": "XvDIuw6vlsKN"
      },
      "source": [
        "<a name=\"p2\"></a>\n",
        "\n",
        "---\n",
        "## **Part 2: Additional Practice**\n",
        "---"
      ]
    },
    {
      "cell_type": "markdown",
      "source": [
        "### **Problem #2.1**\n",
        "\n",
        "Add a new column `Total` by multiplying `Quantity` and `Price`."
      ],
      "metadata": {
        "id": "AAVinbrH5Hod"
      }
    },
    {
      "cell_type": "code",
      "source": [
        "data = {'Quantity': [2, 3, 4, 1],\n",
        "        'Price': [10.99, 5.99, 3.99, 2.99]}\n",
        "df = pd.DataFrame(data)\n",
        "\n",
        "# Add a new column 'Total'\n",
        "# TYPE CODE HERE\n",
        "\n",
        "df['Total'] = df['Quantity'] * df['Price']\n",
        "\n",
        "print(df)"
      ],
      "metadata": {
        "id": "l41O6zwu5PGn",
        "colab": {
          "base_uri": "https://localhost:8080/"
        },
        "outputId": "52dcbf6c-905b-41c2-f74a-324a33cefc2f"
      },
      "execution_count": 24,
      "outputs": [
        {
          "output_type": "stream",
          "name": "stdout",
          "text": [
            "   Quantity  Price  Total\n",
            "0         2  10.99  21.98\n",
            "1         3   5.99  17.97\n",
            "2         4   3.99  15.96\n",
            "3         1   2.99   2.99\n"
          ]
        }
      ]
    },
    {
      "cell_type": "markdown",
      "source": [
        "### **Problem #2.2**\n",
        "\n",
        "Add a new column `Speed` by dividing `Distance` by `Time`."
      ],
      "metadata": {
        "id": "Wfs0T25J5bcq"
      }
    },
    {
      "cell_type": "code",
      "source": [
        "data = {'Distance': [100, 200, 150, 120],\n",
        "        'Time': [10, 15, 12, 8]}\n",
        "df = pd.DataFrame(data)\n",
        "\n",
        "# Add a new column 'Speed'\n",
        "# TYPE CODE HERE\n",
        "\n",
        "df['Speed'] = df['Distance'] / df['Time']\n",
        "\n",
        "print(df)"
      ],
      "metadata": {
        "id": "V-W0s-q05rtp",
        "colab": {
          "base_uri": "https://localhost:8080/"
        },
        "outputId": "46435028-67ae-425c-a941-3a1594ac0255"
      },
      "execution_count": 15,
      "outputs": [
        {
          "output_type": "stream",
          "name": "stdout",
          "text": [
            "   Distance  Time      Speed\n",
            "0       100    10  10.000000\n",
            "1       200    15  13.333333\n",
            "2       150    12  12.500000\n",
            "3       120     8  15.000000\n"
          ]
        }
      ]
    },
    {
      "cell_type": "markdown",
      "source": [
        "### **Problem #2.3**\n",
        "\n",
        "Add a new column `Profit` by subtracting `Expenses` from `Revenue`."
      ],
      "metadata": {
        "id": "u7KyQkKF6CBJ"
      }
    },
    {
      "cell_type": "code",
      "source": [
        "data = {'Revenue': [1000, 1500, 1200, 800],\n",
        "        'Expenses': [500, 600, 800, 400]}\n",
        "df = pd.DataFrame(data)\n",
        "\n",
        "# Add a new column 'Profit' by subtracting 'Expenses' from 'Revenue'\n",
        "# TYPE CODE HERE\n",
        "\n",
        "df['Profit'] = df['Revenue'] - df['Expenses']\n",
        "\n",
        "print(df)"
      ],
      "metadata": {
        "id": "tFxEaLc06Bi7",
        "colab": {
          "base_uri": "https://localhost:8080/"
        },
        "outputId": "22a75083-a009-4c6f-8a02-65e3e3986dfd"
      },
      "execution_count": 17,
      "outputs": [
        {
          "output_type": "stream",
          "name": "stdout",
          "text": [
            "   Revenue  Expenses  Profit\n",
            "0     1000       500     500\n",
            "1     1500       600     900\n",
            "2     1200       800     400\n",
            "3      800       400     400\n"
          ]
        }
      ]
    },
    {
      "cell_type": "markdown",
      "source": [
        "### **Problem #2.4**\n",
        "\n",
        "Drop `City` and `State` from the DataFrame below."
      ],
      "metadata": {
        "id": "NXSrrEe27fYW"
      }
    },
    {
      "cell_type": "code",
      "source": [
        "data = {'Name': ['John', 'Jane', 'Mike'],\n",
        "        'City': ['New York', 'Los Angeles', 'Chicago'],\n",
        "        'State': ['NY', 'CA', 'IL'],\n",
        "        'Country': ['USA', 'USA', 'USA']}\n",
        "df = pd.DataFrame(data)\n",
        "\n",
        "# Drop 'City' and 'State' columns\n",
        "# TYPE CODE HERE\n",
        "\n",
        "df.drop(['City', 'State'], axis=1, inplace=True)\n",
        "\n",
        "print(df)"
      ],
      "metadata": {
        "id": "MagWnrjD7gDI",
        "colab": {
          "base_uri": "https://localhost:8080/"
        },
        "outputId": "36a64fe5-5e45-4cf6-b76b-8fef8c94fc20"
      },
      "execution_count": 19,
      "outputs": [
        {
          "output_type": "stream",
          "name": "stdout",
          "text": [
            "   Name Country\n",
            "0  John     USA\n",
            "1  Jane     USA\n",
            "2  Mike     USA\n"
          ]
        }
      ]
    },
    {
      "cell_type": "markdown",
      "source": [
        "### **Problem #2.5**\n",
        "\n",
        "Drop `Height` and `Weight` from the DataFrame below."
      ],
      "metadata": {
        "id": "HBzPsXUT73YF"
      }
    },
    {
      "cell_type": "code",
      "source": [
        "data = {'Name': ['John', 'Jane', 'Mike'],\n",
        "        'Height': [175, 160, 180],\n",
        "        'Weight': [70, 55, 80]}\n",
        "df = pd.DataFrame(data)\n",
        "\n",
        "# Drop 'Height' and 'Weight' columns\n",
        "# TYPE CODE HERE\n",
        "df.drop(['Height', 'Weight'], axis=1, inplace=True)\n",
        "\n",
        "print(df)"
      ],
      "metadata": {
        "id": "jwftRgvx79Dl",
        "colab": {
          "base_uri": "https://localhost:8080/"
        },
        "outputId": "58094f62-1635-46c6-e4ab-cae6efba6df2"
      },
      "execution_count": 23,
      "outputs": [
        {
          "output_type": "stream",
          "name": "stdout",
          "text": [
            "   Name\n",
            "0  John\n",
            "1  Jane\n",
            "2  Mike\n"
          ]
        }
      ]
    },
    {
      "cell_type": "markdown",
      "source": [
        "---\n",
        "#End of Notebook\n",
        "\n",
        "© 2024 The Coding School, All rights reserved"
      ],
      "metadata": {
        "id": "qW2Fea5oUjEL"
      }
    }
  ]
}