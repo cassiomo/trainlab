{
  "nbformat": 4,
  "nbformat_minor": 0,
  "metadata": {
    "colab": {
      "provenance": [],
      "include_colab_link": true
    },
    "kernelspec": {
      "name": "python3",
      "display_name": "Python 3"
    },
    "language_info": {
      "name": "python"
    }
  },
  "cells": [
    {
      "cell_type": "markdown",
      "metadata": {
        "id": "view-in-github",
        "colab_type": "text"
      },
      "source": [
        "<a href=\"https://colab.research.google.com/github/cassiomo/trainlab/blob/main/TRAIN_YLC_Week_13_Homework_%5BSTUDENT%5D.ipynb\" target=\"_parent\"><img src=\"https://colab.research.google.com/assets/colab-badge.svg\" alt=\"Open In Colab\"/></a>"
      ]
    },
    {
      "cell_type": "markdown",
      "source": [
        "# **Homework 13: Machine Learning Review**\n",
        "---\n",
        "### **Description**\n",
        "Throughout this notebook, you'll review how to implement a logistic regression model.\n",
        "\n",
        "\n",
        "\n",
        "### **Lab Structure**\n",
        "* **Part 1**: [College Admissions Dataset](#p1)\n",
        "\n",
        "* **Part 2**: [Water Quality Dataset](#p2)\n",
        "\n",
        "\n",
        "\n",
        "\n",
        "\n",
        "<br>\n",
        "\n",
        "\n",
        "### **Resources**\n",
        "\n",
        "\n",
        "* [Logistic Regression with sklearn](https://docs.google.com/document/d/1a2MbrwRDCP3cpnLs2n2qG-4qbR9TEP6xnfdI7cl_vzQ/edit?usp=sharing)\n",
        "\n",
        "\n",
        "\n",
        "<br>\n",
        "\n",
        "**Run the code below before continuing.**\n"
      ],
      "metadata": {
        "id": "nvymFWiixQvT"
      }
    },
    {
      "cell_type": "code",
      "source": [
        "import warnings\n",
        "warnings.filterwarnings('ignore')\n",
        "\n",
        "import pandas as pd\n",
        "import matplotlib.pyplot as plt\n",
        "\n",
        "from sklearn.model_selection import train_test_split, cross_val_score\n",
        "from sklearn.metrics import *"
      ],
      "metadata": {
        "id": "9de72I1w8qKR"
      },
      "execution_count": null,
      "outputs": []
    },
    {
      "cell_type": "markdown",
      "source": [
        "<a name=\"p1\"></a>\n",
        "\n",
        "---\n",
        "## **Part 1: College Admissions Dataset**\n",
        "---\n",
        "#### **About the Dataset**\n",
        "We've already explored this dataset; now it's time to create a logistic regression model using it! The college admissions dataset contains information on various factors that could influence admission decisions. The dataset includes attributes such as admission status (admit), Graduate Record Examination (GRE) score, Grade Point Average (GPA), socioeconomic status (SES), gender (Gender_Male), race, and undergraduate rank (rank). These features provide insights into the characteristics of applicants and their likelihood of being admitted to a college or university.\n",
        "\n",
        "The features are as follows:\n",
        "\n",
        "* `admit`: A binary indicator of whether the student was admitted or not (0: no, 1: yes)\n",
        "* `gre`: Score obtained on the Graduate Record Examination (ranging from 200-800)\n",
        "* `gpa`: Grade point average (out of 4.00)\n",
        "* `ses`: Socioeconomic status (1: low, 2: medium, 3: high)\n",
        "* `Gender_Male`: A binary indicator of whether the student is male or female (0: female, 1: male)\n",
        "* `Race`: The race or ethnicity of applicants, which can be categorized into different groups (1: Hispanic, 2: Asian, 3: African American)\n",
        "* `rank`: The rank or prestige level of applicants' undergraduate institutions, often represented as ordinal values (e.g., 1 = Highest rank, 4 = Lowest rank).\n",
        "\n",
        "\n",
        "<br>\n",
        "\n",
        "#### **Your Task**\n",
        "Using the College Admissions dataset, we will do the following:\n",
        "* Create a logistic regression model that can predict whether or not a student will be admitted into college\n"
      ],
      "metadata": {
        "id": "quJ9H2PskAGm"
      }
    },
    {
      "cell_type": "markdown",
      "source": [
        "### **Step #1: Load the data**\n",
        "\n",
        "Use the following code to load the college admissions dataset."
      ],
      "metadata": {
        "id": "uI2yO75skAGn"
      }
    },
    {
      "cell_type": "code",
      "source": [
        "url = \"https://raw.githubusercontent.com/the-codingschool/TRAIN/main/college_admissions/Admission.xlsx\"\n",
        "admissions_df = pd.read_excel(url)\n",
        "admissions_df.head()"
      ],
      "metadata": {
        "id": "B4H5QvjvkAGn"
      },
      "execution_count": null,
      "outputs": []
    },
    {
      "cell_type": "markdown",
      "source": [
        "### **Step #2: Decide independent and dependent variables**\n",
        "\n",
        "We are going to use `gre` and `gpa` as our independent variables for predicting `admit`."
      ],
      "metadata": {
        "id": "miT4wSJJkAGo"
      }
    },
    {
      "cell_type": "code",
      "source": [],
      "metadata": {
        "id": "YWfqVfpGkAGo"
      },
      "execution_count": null,
      "outputs": []
    },
    {
      "cell_type": "markdown",
      "source": [
        "### **Step #3: Split the data into train and test sets**"
      ],
      "metadata": {
        "id": "GxpDGSgVkAGo"
      }
    },
    {
      "cell_type": "code",
      "source": [],
      "metadata": {
        "id": "8WVzWmQzkAGo"
      },
      "execution_count": null,
      "outputs": []
    },
    {
      "cell_type": "markdown",
      "source": [
        "### **Step #4: Import the Logistic Regression algorithm**"
      ],
      "metadata": {
        "id": "jBVIxvcGkAGo"
      }
    },
    {
      "cell_type": "code",
      "source": [],
      "metadata": {
        "id": "iH7WvxxBkAGo"
      },
      "execution_count": null,
      "outputs": []
    },
    {
      "cell_type": "markdown",
      "source": [
        "### **Step #5: Initialize the model**\n"
      ],
      "metadata": {
        "id": "VzDZz_1OkAGp"
      }
    },
    {
      "cell_type": "code",
      "source": [],
      "metadata": {
        "id": "4C1QSbD0kAGp"
      },
      "execution_count": null,
      "outputs": []
    },
    {
      "cell_type": "markdown",
      "source": [
        "### **Step #6: Fit your model and make predictions for the test data**"
      ],
      "metadata": {
        "id": "Fg_kQNzxkAGp"
      }
    },
    {
      "cell_type": "code",
      "source": [
        "#fit\n",
        "\n",
        "y_pred = # COMPLETE THIS LINE\n",
        "\n",
        "y_pred_proba = # COMPLETE THIS LINE\n",
        "\n",
        "y_pred_binary = # COMPLETE THIS LINE"
      ],
      "metadata": {
        "id": "zPaOHYggkAGp"
      },
      "execution_count": null,
      "outputs": []
    },
    {
      "cell_type": "markdown",
      "source": [
        "### **Step #7: Evaluate the model**\n",
        "\n",
        "Print the classification report and then plot the confusion matrix.\n"
      ],
      "metadata": {
        "id": "aolirCZKkAGq"
      }
    },
    {
      "cell_type": "code",
      "source": [
        "report = # WRITE YOUR CODE HERE\n",
        "print('Classification report ' + # COMPLETE THIS LINE\n",
        "\n",
        "cm = # WRITE YOUR CODE HERE\n",
        "disp = # WRITE YOUR CODE HERE\n",
        "disp.plot()\n",
        "plt.show()"
      ],
      "metadata": {
        "id": "QwodNPhXMxtJ"
      },
      "execution_count": null,
      "outputs": []
    },
    {
      "cell_type": "markdown",
      "source": [
        "### **Step #8: Use the model**\n",
        "\n",
        "Using the model we created, predict whether or not the following two students will be admitted into college:\n",
        "\n",
        "* **Student 1:** `gre` is 670 and `gpa` is 3.74\n",
        "\n",
        "* **Student 2:**  `gre` is 780 and `gpa` is 3.92\n",
        "\n",
        "**Note:** you must create a dataframe containing with the information of the new students:\n",
        "\n",
        "```python\n",
        "new_student_data = pd.DataFrame(new_student_data_here, columns = [\"gre\", \"gpa\"])\n",
        "```"
      ],
      "metadata": {
        "id": "g7vfv1sr0yzf"
      }
    },
    {
      "cell_type": "code",
      "source": [],
      "metadata": {
        "id": "ovBAVGtM1Ae8"
      },
      "execution_count": null,
      "outputs": []
    },
    {
      "cell_type": "markdown",
      "source": [
        "<a name=\"p2\"></a>\n",
        "\n",
        "---\n",
        "## **Part 2: Water Quality Dataset**\n",
        "---\n",
        "\n",
        "#### **About the Dataset**\n",
        "Access to clean drinking water is essential for health and a basic human right, and yet nearly 2 billion people around the world do not have access to clean drinking water. In some regions it has been shown that investments in water supply and sanitation can result in a net economic benefit because reductions in health care costs and adverse health effects outweigh the costs of providing interventions.\n",
        "\n",
        "The features are as follows:\n",
        "* `Hardness`: capacity of water to precipitate soap in (mg/L)\n",
        "* `Solids`: total dissolved solids (in ppm)\n",
        "* `Chloramines`: amount of chloramines (in ppm)\n",
        "* `Conductivity`: electrical conductivity of the water (in μS/cm)\n",
        "* `Organic_carbon`: amount of organic carbon in ppm\n",
        "* `Trihalomethanes`: amount of trihalomethanes (in μg/L)\n",
        "* `Turbidity`: measure of light emitting property of water (in NTU)\n",
        "* `Potability`: whether or not the water is safe for human consumption (0: no, 1: yes)\n",
        "\n",
        "<br>\n",
        "\n",
        "#### **Your Task**\n",
        "Using the water quality dataset, we will do the following:\n",
        "* Create a logistic regression model that can predict whether or not water is safe for drinking"
      ],
      "metadata": {
        "id": "qglKOqurv3Kx"
      }
    },
    {
      "cell_type": "markdown",
      "source": [
        "### **Step #1: Load the data**\n",
        "\n",
        "Use the following code to load the drinking water dataset."
      ],
      "metadata": {
        "id": "8KHWL2knv3LC"
      }
    },
    {
      "cell_type": "code",
      "source": [
        "url = \"https://raw.githubusercontent.com/the-codingschool/TRAIN/main/drinking_water/drinking_water_cleaned.csv\"\n",
        "df = pd.read_csv(url).drop(\"Unnamed: 0\", axis=1)\n",
        "df.head()"
      ],
      "metadata": {
        "id": "vxa9Slr-v3LC"
      },
      "execution_count": null,
      "outputs": []
    },
    {
      "cell_type": "markdown",
      "source": [
        "### **Step #2: Decide independent and dependent variables**\n",
        "\n",
        "We are going to use all features except `Potability` as our independent variables for predicting `Potability`."
      ],
      "metadata": {
        "id": "m8G_S8L1v3LD"
      }
    },
    {
      "cell_type": "code",
      "source": [],
      "metadata": {
        "id": "tP6cRKf6v3LD"
      },
      "execution_count": null,
      "outputs": []
    },
    {
      "cell_type": "markdown",
      "source": [
        "### **Step #3: Split the data into train and test sets**"
      ],
      "metadata": {
        "id": "jv6MgtJcv3LE"
      }
    },
    {
      "cell_type": "code",
      "source": [],
      "metadata": {
        "id": "jGpJEKREv3LE"
      },
      "execution_count": null,
      "outputs": []
    },
    {
      "cell_type": "markdown",
      "source": [
        "### **Step #4: Import the Logistic Regression algorithm**\n"
      ],
      "metadata": {
        "id": "WGgZgJ3sv3LF"
      }
    },
    {
      "cell_type": "code",
      "source": [],
      "metadata": {
        "id": "QmqSX0PJv3LF"
      },
      "execution_count": null,
      "outputs": []
    },
    {
      "cell_type": "markdown",
      "source": [
        "### **Step #5: Initialize the model**"
      ],
      "metadata": {
        "id": "wc2Gn616v3LG"
      }
    },
    {
      "cell_type": "code",
      "source": [],
      "metadata": {
        "id": "Sm9MBwJLv3LG"
      },
      "execution_count": null,
      "outputs": []
    },
    {
      "cell_type": "markdown",
      "source": [
        "### **Step #6: Fit your model and make predictions for the test data**"
      ],
      "metadata": {
        "id": "2V2AxCyIv3LH"
      }
    },
    {
      "cell_type": "code",
      "source": [
        "#fit\n",
        "\n",
        "y_pred = # COMPLETE THIS LINE\n",
        "\n",
        "y_pred_proba = # COMPLETE THIS LINE\n",
        "\n",
        "y_pred_binary = # COMPLETE THIS LINE"
      ],
      "metadata": {
        "id": "IQxImkKEv3LH"
      },
      "execution_count": null,
      "outputs": []
    },
    {
      "cell_type": "markdown",
      "source": [
        "### **Step #7: Evaluate the model**\n",
        "\n",
        "Print the classification report and then plot the confusion matrix.\n"
      ],
      "metadata": {
        "id": "XZhIaf2cNKG7"
      }
    },
    {
      "cell_type": "code",
      "source": [
        "report = # WRITE YOUR CODE HERE\n",
        "print('Classification report ' + # COMPLETE THIS LINE\n",
        "\n",
        "cm = # WRITE YOUR CODE HERE\n",
        "disp = # WRITE YOUR CODE HERE\n",
        "disp.plot()\n",
        "plt.show()"
      ],
      "metadata": {
        "id": "CS-TTec5NKG8"
      },
      "execution_count": null,
      "outputs": []
    },
    {
      "cell_type": "markdown",
      "source": [
        "---\n",
        "\n",
        "# End of Notebook\n",
        "\n",
        "© 2023 The Coding School, All rights reserved"
      ],
      "metadata": {
        "id": "75g0yrIewirj"
      }
    }
  ]
}