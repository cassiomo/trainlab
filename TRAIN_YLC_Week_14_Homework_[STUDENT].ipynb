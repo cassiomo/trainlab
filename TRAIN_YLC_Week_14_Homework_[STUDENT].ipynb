{
  "nbformat": 4,
  "nbformat_minor": 0,
  "metadata": {
    "colab": {
      "provenance": [],
      "include_colab_link": true
    },
    "kernelspec": {
      "name": "python3",
      "display_name": "Python 3"
    },
    "language_info": {
      "name": "python"
    }
  },
  "cells": [
    {
      "cell_type": "markdown",
      "metadata": {
        "id": "view-in-github",
        "colab_type": "text"
      },
      "source": [
        "<a href=\"https://colab.research.google.com/github/cassiomo/trainlab/blob/main/TRAIN_YLC_Week_14_Homework_%5BSTUDENT%5D.ipynb\" target=\"_parent\"><img src=\"https://colab.research.google.com/assets/colab-badge.svg\" alt=\"Open In Colab\"/></a>"
      ]
    },
    {
      "cell_type": "markdown",
      "source": [
        "# **Homework 14: Data Wrangling**\n",
        "---\n",
        "### **Description**\n",
        "This notebook is designed to provide hands-on experience in data wrangling using pandas. You will execute different data wrangling tasks including data cleaning, feature engineering, and feature selection.\n",
        "\n",
        "\n",
        "\n",
        "### **Structure**\n",
        "**Part 1**: [Salary Dataset](#p1)\n",
        "\n",
        "**Part 2**: [Additional Practice](#p2)\n",
        "\n",
        "\n",
        "\n",
        "\n",
        "\n",
        "<br>\n",
        "\n",
        "\n",
        "### **Resources**\n",
        "* [Data Wrangling with pandas](https://docs.google.com/document/d/1Ku2E1Dev0Xo8HOmIkq5jA-FaKwhD_cJkPkXBjTWECdQ/edit?usp=sharing)\n",
        "\n",
        "<br>\n",
        "\n",
        "**Before starting, run the code below to import all necessary functions and libraries.**\n"
      ],
      "metadata": {
        "id": "S9AZ8cbjKYr7"
      }
    },
    {
      "cell_type": "code",
      "source": [
        "import pandas as pd\n",
        "from sklearn import datasets\n",
        "import numpy as np"
      ],
      "metadata": {
        "id": "dw6gI95Veo1E"
      },
      "execution_count": null,
      "outputs": []
    },
    {
      "cell_type": "markdown",
      "source": [
        "<a name=\"p1\"></a>\n",
        "\n",
        "---\n",
        "## **Part 1: Salary Dataset**\n",
        "---\n",
        "\n",
        "\n",
        "**Run the cell below to load the DataFrame before continuing.**"
      ],
      "metadata": {
        "id": "VRWhnEk5XMJZ"
      }
    },
    {
      "cell_type": "code",
      "source": [
        "df = pd.DataFrame({\n",
        "    'Age': [25, 30, np.nan, 45, 50, np.nan, 35, 40, np.nan, 55],\n",
        "    'Salary': [50000, 60000, 55000, np.nan, 65000, 70000, 45000, 80000, np.nan, 90000],\n",
        "    'Experience': [2, 4, 3, 5, 6, 4, 1, 7, 8, 5],\n",
        "    'Department': ['Sales', 'HR', 'IT', 'Marketing', 'IT', 'Sales', 'HR', 'HR', 'Marketing', 'IT']\n",
        "})\n",
        "\n",
        "df"
      ],
      "metadata": {
        "id": "T7pt9cd_aWry"
      },
      "execution_count": null,
      "outputs": []
    },
    {
      "cell_type": "markdown",
      "source": [
        "### **Problem #1.1**\n",
        "\n",
        "Identify which cells in the DataFrame contain missing values."
      ],
      "metadata": {
        "id": "txxZ8Tt7SpHX"
      }
    },
    {
      "cell_type": "code",
      "source": [],
      "metadata": {
        "id": "3seP-hhEStPm"
      },
      "execution_count": null,
      "outputs": []
    },
    {
      "cell_type": "markdown",
      "source": [
        "### **Problem #1.2**\n",
        "\n",
        "Drop all rows from the DataFrame where the 'Age' column has missing data."
      ],
      "metadata": {
        "id": "1t4gLFwXaWyT"
      }
    },
    {
      "cell_type": "code",
      "source": [],
      "metadata": {
        "id": "PZf7PoFEuYqW"
      },
      "execution_count": null,
      "outputs": []
    },
    {
      "cell_type": "markdown",
      "source": [
        "### **Problem #1.3**\n",
        "\n",
        "Calculate the mean salary and use this value to fill in any missing salaries in the DataFrame."
      ],
      "metadata": {
        "id": "t7Ac-Cpq4z-X"
      }
    },
    {
      "cell_type": "code",
      "source": [],
      "metadata": {
        "id": "dfcSUx6p4z-j"
      },
      "execution_count": null,
      "outputs": []
    },
    {
      "cell_type": "markdown",
      "source": [
        "### **Problem #1.4**\n",
        "\n",
        "Rename the 'Department' column to 'Dept'."
      ],
      "metadata": {
        "id": "xnC6adFs7XtI"
      }
    },
    {
      "cell_type": "code",
      "source": [],
      "metadata": {
        "id": "aEsE-4em7lqT"
      },
      "execution_count": null,
      "outputs": []
    },
    {
      "cell_type": "markdown",
      "source": [
        "### **Problem #1.5**\n",
        "\n",
        "Find and remove any duplicate rows in the DataFrame."
      ],
      "metadata": {
        "id": "ybhpD8wLbPbV"
      }
    },
    {
      "cell_type": "code",
      "source": [],
      "metadata": {
        "id": "v1meELQKbTjy"
      },
      "execution_count": null,
      "outputs": []
    },
    {
      "cell_type": "markdown",
      "source": [
        "### **Problem #1.6**\n",
        "\n",
        "Create a new column `Salary_Per_Year_Experience` by dividing the `Salary` column by the `Experience` column."
      ],
      "metadata": {
        "id": "VfXQBWVvS-64"
      }
    },
    {
      "cell_type": "code",
      "source": [],
      "metadata": {
        "id": "BF88yDoZS-7N"
      },
      "execution_count": null,
      "outputs": []
    },
    {
      "cell_type": "markdown",
      "source": [
        "### **Problem #1.7**\n",
        "\n",
        "Add 2 years to the `Experience` column and store the result in a new column `Adjusted_Experience`."
      ],
      "metadata": {
        "id": "JFPnUcBiTJpC"
      }
    },
    {
      "cell_type": "code",
      "source": [],
      "metadata": {
        "id": "W0U0DRZDTJpQ"
      },
      "execution_count": null,
      "outputs": []
    },
    {
      "cell_type": "markdown",
      "source": [
        "### **Problem #1.8**\n",
        "\n",
        "Remove the `Experience` column from the DataFrame."
      ],
      "metadata": {
        "id": "W-Q0UCEYTR8_"
      }
    },
    {
      "cell_type": "code",
      "source": [],
      "metadata": {
        "id": "hLX7a6EkTR9K"
      },
      "execution_count": null,
      "outputs": []
    },
    {
      "cell_type": "markdown",
      "metadata": {
        "id": "XvDIuw6vlsKN"
      },
      "source": [
        "<a name=\"p2\"></a>\n",
        "\n",
        "---\n",
        "## **Part 2: Additional Practice**\n",
        "---"
      ]
    },
    {
      "cell_type": "markdown",
      "source": [
        "### **Problem #2.1**\n",
        "\n",
        "Add a new column `Total` by multiplying `Quantity` and `Price`."
      ],
      "metadata": {
        "id": "AAVinbrH5Hod"
      }
    },
    {
      "cell_type": "code",
      "source": [
        "data = {'Quantity': [2, 3, 4, 1],\n",
        "        'Price': [10.99, 5.99, 3.99, 2.99]}\n",
        "df = pd.DataFrame(data)\n",
        "\n",
        "# Add a new column 'Total'\n",
        "# TYPE CODE HERE\n",
        "\n",
        "print(df)"
      ],
      "metadata": {
        "id": "l41O6zwu5PGn"
      },
      "execution_count": null,
      "outputs": []
    },
    {
      "cell_type": "markdown",
      "source": [
        "### **Problem #2.2**\n",
        "\n",
        "Add a new column `Speed` by dividing `Distance` by `Time`."
      ],
      "metadata": {
        "id": "Wfs0T25J5bcq"
      }
    },
    {
      "cell_type": "code",
      "source": [
        "data = {'Distance': [100, 200, 150, 120],\n",
        "        'Time': [10, 15, 12, 8]}\n",
        "df = pd.DataFrame(data)\n",
        "\n",
        "# Add a new column 'Speed'\n",
        "# TYPE CODE HERE\n",
        "\n",
        "print(df)"
      ],
      "metadata": {
        "id": "V-W0s-q05rtp"
      },
      "execution_count": null,
      "outputs": []
    },
    {
      "cell_type": "markdown",
      "source": [
        "### **Problem #2.3**\n",
        "\n",
        "Add a new column `Profit` by subtracting `Expenses` from `Revenue`."
      ],
      "metadata": {
        "id": "u7KyQkKF6CBJ"
      }
    },
    {
      "cell_type": "code",
      "source": [
        "data = {'Revenue': [1000, 1500, 1200, 800],\n",
        "        'Expenses': [500, 600, 800, 400]}\n",
        "df = pd.DataFrame(data)\n",
        "\n",
        "# Add a new column 'Profit' by subtracting 'Expenses' from 'Revenue'\n",
        "# TYPE CODE HERE\n",
        "\n",
        "print(df)"
      ],
      "metadata": {
        "id": "tFxEaLc06Bi7"
      },
      "execution_count": null,
      "outputs": []
    },
    {
      "cell_type": "markdown",
      "source": [
        "### **Problem #2.4**\n",
        "\n",
        "Drop `City` and `State` from the DataFrame below."
      ],
      "metadata": {
        "id": "NXSrrEe27fYW"
      }
    },
    {
      "cell_type": "code",
      "source": [
        "data = {'Name': ['John', 'Jane', 'Mike'],\n",
        "        'City': ['New York', 'Los Angeles', 'Chicago'],\n",
        "        'State': ['NY', 'CA', 'IL'],\n",
        "        'Country': ['USA', 'USA', 'USA']}\n",
        "df = pd.DataFrame(data)\n",
        "\n",
        "# Drop 'City' and 'State' columns\n",
        "# TYPE CODE HERE\n",
        "\n",
        "print(df)"
      ],
      "metadata": {
        "id": "MagWnrjD7gDI"
      },
      "execution_count": null,
      "outputs": []
    },
    {
      "cell_type": "markdown",
      "source": [
        "### **Problem #2.5**\n",
        "\n",
        "Drop `Height` and `Weight` from the DataFrame below."
      ],
      "metadata": {
        "id": "HBzPsXUT73YF"
      }
    },
    {
      "cell_type": "code",
      "source": [
        "data = {'Name': ['John', 'Jane', 'Mike'],\n",
        "        'Height': [175, 160, 180],\n",
        "        'Weight': [70, 55, 80]}\n",
        "df = pd.DataFrame(data)\n",
        "\n",
        "# Drop 'Height' and 'Weight' columns\n",
        "# TYPE CODE HERE\n",
        "\n",
        "print(df)"
      ],
      "metadata": {
        "id": "jwftRgvx79Dl"
      },
      "execution_count": null,
      "outputs": []
    },
    {
      "cell_type": "markdown",
      "source": [
        "---\n",
        "#End of Notebook\n",
        "\n",
        "© 2024 The Coding School, All rights reserved"
      ],
      "metadata": {
        "id": "qW2Fea5oUjEL"
      }
    }
  ]
}