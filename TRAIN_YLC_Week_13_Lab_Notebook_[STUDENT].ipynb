{
  "nbformat": 4,
  "nbformat_minor": 0,
  "metadata": {
    "colab": {
      "provenance": [],
      "toc_visible": true,
      "include_colab_link": true
    },
    "kernelspec": {
      "name": "python3",
      "display_name": "Python 3"
    },
    "language_info": {
      "name": "python"
    }
  },
  "cells": [
    {
      "cell_type": "markdown",
      "metadata": {
        "id": "view-in-github",
        "colab_type": "text"
      },
      "source": [
        "<a href=\"https://colab.research.google.com/github/cassiomo/trainlab/blob/main/TRAIN_YLC_Week_13_Lab_Notebook_%5BSTUDENT%5D.ipynb\" target=\"_parent\"><img src=\"https://colab.research.google.com/assets/colab-badge.svg\" alt=\"Open In Colab\"/></a>"
      ]
    },
    {
      "cell_type": "markdown",
      "source": [
        "# **Lab 13: Machine Learning Review**\n",
        "---\n",
        "\n",
        "### **Description**\n",
        "\n",
        "In this week's lab, we will review all algorithms we have seen so far. We will go through implementing and evaluating linear regression and KNN models before taking a look at building logistic regression models.\n",
        "\n",
        "<br>\n",
        "\n",
        "### **Structure**\n",
        "\n",
        "**Part 1**: [[OPTIONAL] Linear Regression Review](#p1)\n",
        "\n",
        "**Part 2**: [[OPTIONAL] KNN Review](#p2)\n",
        "\n",
        "**Part 3**: [[OPTIONAL] Implementing Logistic Regression](#p3)\n",
        "\n",
        "\n",
        "<br>\n",
        "\n",
        "### **Learning Objectives**\n",
        "\n",
        "By the end of this lab, you will:\n",
        "* Understand how to implement and evaluate Linear Regression models in sklearn.\n",
        "* Understand how to implement and evaluate KNN models in sklearn.\n",
        "* Recognize how to implement and evaluate Logistic Regression models in sklearn.\n",
        "\n",
        "<br>\n",
        "\n",
        "### **Resources**\n",
        "\n",
        "* [Linear Regression with sklearn](https://docs.google.com/document/d/1DPUqouqGKeAYBfNBoHNsKRoQGXfD7mjUAvjjK0VsLbc/edit?usp=drive_link)\n",
        "\n",
        "* [K-Nearest Neighbors with sklearn](https://docs.google.com/document/d/16r4lrQNH-IUFbzh5RXL9w__ZQ6sOXWxHYaCd77nMK3Q/edit?usp=sharing)\n",
        "\n",
        "* [Logistic Regression with sklearn](https://docs.google.com/document/d/1a2MbrwRDCP3cpnLs2n2qG-4qbR9TEP6xnfdI7cl_vzQ/edit?usp=sharing)\n",
        "\n",
        "\n",
        "\n",
        "<br>\n",
        "\n",
        "**Run the code below before continuing.**"
      ],
      "metadata": {
        "id": "Zf9KV8luVQbS"
      }
    },
    {
      "cell_type": "code",
      "execution_count": null,
      "metadata": {
        "id": "plU6ri3fVEYK"
      },
      "outputs": [],
      "source": [
        "import warnings\n",
        "warnings.filterwarnings('ignore')\n",
        "\n",
        "import pandas as pd\n",
        "import matplotlib.pyplot as plt\n",
        "\n",
        "from sklearn.model_selection import train_test_split, cross_val_score\n",
        "from sklearn.metrics import *\n",
        "from sklearn.datasets import load_breast_cancer"
      ]
    },
    {
      "cell_type": "markdown",
      "source": [
        "<a name=\"p1\"></a>\n",
        "\n",
        "---\n",
        "## **Part 1: Linear Regression Review**\n",
        "---\n",
        "\n",
        "In this part, we will model the relationship between specific features (`danceability`, `instrumentalness`, and `loudness`) and the `popularity` variable as the label using linear regression."
      ],
      "metadata": {
        "id": "4MNrBgFrz4ET"
      }
    },
    {
      "cell_type": "markdown",
      "source": [
        "#### **Step #1: Load the data**\n",
        "\n"
      ],
      "metadata": {
        "id": "YQPB7XZ9v-sn"
      }
    },
    {
      "cell_type": "code",
      "source": [
        "url = \"https://raw.githubusercontent.com/the-codingschool/TRAIN/main/music_genres/music_genres_cleaned.csv\"\n",
        "df = pd.read_csv(url)\n",
        "\n",
        "df.head()"
      ],
      "metadata": {
        "id": "C1rwfTb_rXia"
      },
      "execution_count": null,
      "outputs": []
    },
    {
      "cell_type": "markdown",
      "source": [
        "#### **Step #2: Decide independent and dependent variables**\n",
        "\n",
        "Examining the DataFrame, choose only `danceability`, `instrumentalness`, and `loudness` for the features and `popularity` for the label.\n"
      ],
      "metadata": {
        "id": "E5z0mLEQF565"
      }
    },
    {
      "cell_type": "code",
      "source": [
        "features = # COMPLETE THIS CODE\n",
        "label = # COMPLETE THIS CODE"
      ],
      "metadata": {
        "id": "Le7RzFSXS7FW"
      },
      "execution_count": null,
      "outputs": []
    },
    {
      "cell_type": "markdown",
      "source": [
        "#### **Step #3: Split data into training and testing data**\n",
        "\n",
        "Split the data using a 80 / 20 split."
      ],
      "metadata": {
        "id": "lMDn8ONk600c"
      }
    },
    {
      "cell_type": "code",
      "source": [
        "X_train, X_test, y_train, y_test = train_test_split(# COMPLETE THIS CODE"
      ],
      "metadata": {
        "id": "IOuMRPdQlAVz"
      },
      "execution_count": null,
      "outputs": []
    },
    {
      "cell_type": "markdown",
      "source": [
        "#### **Step #4: Import your model**"
      ],
      "metadata": {
        "id": "5ADG4KRM69dJ"
      }
    },
    {
      "cell_type": "code",
      "source": [
        "# COMPLETE THIS CODE"
      ],
      "metadata": {
        "id": "VZMm4IAClBLO"
      },
      "execution_count": null,
      "outputs": []
    },
    {
      "cell_type": "markdown",
      "source": [
        "#### **Step #5: Initialize your model and set hyperparameters**\n",
        "\n",
        "\n",
        "Linear regression takes no hyperparameters, so just initialize the model."
      ],
      "metadata": {
        "id": "PFUiA67CHAMc"
      }
    },
    {
      "cell_type": "code",
      "source": [],
      "metadata": {
        "id": "faXqWmQElEFD"
      },
      "execution_count": null,
      "outputs": []
    },
    {
      "cell_type": "markdown",
      "source": [
        "#### **Step #6: Fit your model, test on the testing data, and create a visualization if applicable**"
      ],
      "metadata": {
        "id": "xMnlj4W0HF9U"
      }
    },
    {
      "cell_type": "code",
      "source": [],
      "metadata": {
        "id": "h5iPDJmJlFAQ"
      },
      "execution_count": null,
      "outputs": []
    },
    {
      "cell_type": "markdown",
      "source": [
        "##### **Create a visualization**\n",
        "\n",
        "Use `y_test` and your `prediction` from the model to create a scatter plot. Then use the following line to visualize where a correct prediction would be. The code has already been given to you.\n",
        "```\n",
        "plt.plot([y_test.min(), y_test.max()], [y_test.min(), y_test.max()], '--k', label=\"Correct prediction\")\n",
        "```"
      ],
      "metadata": {
        "id": "6DmQtTt9HNJE"
      }
    },
    {
      "cell_type": "code",
      "source": [
        "plt.figure(figsize=(8, 8))\n",
        "\n",
        "plt.scatter(# COMPLETE THIS CODE\n",
        "plt.plot(# COMPLETE THIS CODE, '--k', label=\"Correct prediction\")\\\n",
        "\n",
        "plt.xlabel(# COMPLETE THIS CODE\n",
        "plt.ylabel(# COMPLETE THIS CODE\n",
        "plt.title(# COMPLETE THIS CODE\n",
        "\n",
        "\n",
        "plt.legend()"
      ],
      "metadata": {
        "id": "-kRYw_V5y9qP"
      },
      "execution_count": null,
      "outputs": []
    },
    {
      "cell_type": "markdown",
      "source": [
        "#### **Step #7: Evaluate your model**\n",
        "\n",
        "Use mean squared error and the R2 score as the evaluation metrics.\n"
      ],
      "metadata": {
        "id": "9hqWuSqc7Tpp"
      }
    },
    {
      "cell_type": "code",
      "source": [],
      "metadata": {
        "id": "9Q0ABlESlNDE"
      },
      "execution_count": null,
      "outputs": []
    },
    {
      "cell_type": "markdown",
      "source": [
        "#### **Step #8: Use the model**\n",
        "\n",
        "Using the model we created, predict the popularity of two new songs.\n",
        "\n",
        "* Song 1: danceability of 0.48, instrumentalness of 0.0021, and loudness of 14.\n",
        "\n",
        "* Song 2: danceability of 0.79, instrumentalness of 0.00036, and loudness of -7.2.\n",
        "\n",
        "**NOTE**: you must create a dataframe containing with the information of the new songs:\n",
        "\n",
        "```python\n",
        "new_song_data = pd.DataFrame(new_song_data, columns =[\"danceability\", \"instrumentalness\", \"loudness\"])\n",
        "```"
      ],
      "metadata": {
        "id": "kKm0SpTVQMkn"
      }
    },
    {
      "cell_type": "code",
      "source": [],
      "metadata": {
        "id": "TArIJn0CYI71"
      },
      "execution_count": null,
      "outputs": []
    },
    {
      "cell_type": "markdown",
      "source": [
        "<a name=\"p2\"></a>\n",
        "\n",
        "---\n",
        "## **Part 2: KNN Review**\n",
        "---\n",
        "\n",
        "In this section, you will create a 5NN model to predict `music_genre` for the same dataset we used in Part 1. We will use the same features used in Part 1."
      ],
      "metadata": {
        "id": "ZO1s3Oc1uwck"
      }
    },
    {
      "cell_type": "markdown",
      "metadata": {
        "id": "p5tQtCwufJPr"
      },
      "source": [
        "#### **Step #1: Load in Data**\n",
        "\n",
        "**This step was completed in Part 1.**"
      ]
    },
    {
      "cell_type": "markdown",
      "metadata": {
        "id": "QFGDY2skfJPs"
      },
      "source": [
        "#### **Step #2: Choose your Variables**\n",
        "\n"
      ]
    },
    {
      "cell_type": "code",
      "execution_count": null,
      "metadata": {
        "id": "k-JjG229fJPs"
      },
      "outputs": [],
      "source": [
        "features = # COMPLETE THIS CODE\n",
        "label = # COMPLETE THIS CODE"
      ]
    },
    {
      "cell_type": "markdown",
      "metadata": {
        "id": "HbEr0TBEfJPs"
      },
      "source": [
        "#### **Step #3: Split your Data**\n"
      ]
    },
    {
      "cell_type": "code",
      "execution_count": null,
      "metadata": {
        "tags": [],
        "id": "BiI_7n98fJPs"
      },
      "outputs": [],
      "source": [
        "X_train, X_test, y_train, y_test = # COMPLETE THIS CODE"
      ]
    },
    {
      "cell_type": "markdown",
      "metadata": {
        "id": "AyBDIqqGfJPs"
      },
      "source": [
        "#### **Step #4: Import an ML Algorithm**\n",
        "\n",
        "\n"
      ]
    },
    {
      "cell_type": "code",
      "source": [
        "# COMPLETE THIS CODE"
      ],
      "metadata": {
        "id": "3zUWy-C-fJPs"
      },
      "execution_count": null,
      "outputs": []
    },
    {
      "cell_type": "markdown",
      "metadata": {
        "id": "q4tlM_dQfJPt"
      },
      "source": [
        "#### **Step #5: Initialize the Model**\n",
        "\n",
        "Use K = 5 here."
      ]
    },
    {
      "cell_type": "code",
      "execution_count": null,
      "metadata": {
        "id": "NrqbrvqmfJPt"
      },
      "outputs": [],
      "source": [
        "model = # COMPLETE THIS CODE"
      ]
    },
    {
      "cell_type": "markdown",
      "metadata": {
        "id": "dwsTR3NBfJPt"
      },
      "source": [
        "#### **Step #6: Fit and Test**\n"
      ]
    },
    {
      "cell_type": "code",
      "execution_count": null,
      "metadata": {
        "id": "nFEKlifHfJPt"
      },
      "outputs": [],
      "source": [
        "model.fit(X_train, # COMPLETE THIS CODE"
      ]
    },
    {
      "cell_type": "code",
      "source": [
        "predictions = # COMPLETE THIS CODE"
      ],
      "metadata": {
        "id": "lBki9dH1fJPt"
      },
      "execution_count": null,
      "outputs": []
    },
    {
      "cell_type": "markdown",
      "metadata": {
        "id": "GOjuQCV6fJPu"
      },
      "source": [
        "#### **Step #7: Evaluate**\n",
        "\n",
        "Let's evaluate this model and put it to the test! Specifically, use the accuracy score to get a simple overall picture of your model's performance, and the confusion matrix to get a more nuanced view of where the model is performing the best and worst\n"
      ]
    },
    {
      "cell_type": "code",
      "source": [
        "print(accuracy_score(# COMPLETE THIS CODE"
      ],
      "metadata": {
        "id": "7iYRgB9yfJPu"
      },
      "execution_count": null,
      "outputs": []
    },
    {
      "cell_type": "code",
      "source": [
        "cm = confusion_matrix(# COMPLETE THIS CODE\n",
        "disp = ConfusionMatrixDisplay(# COMPLETE THIS CODE\n",
        "disp.plot()\n",
        "\n",
        "plt.xticks(rotation=90)\n",
        "plt.show()"
      ],
      "metadata": {
        "id": "bF9jaTzyhAjy"
      },
      "execution_count": null,
      "outputs": []
    },
    {
      "cell_type": "markdown",
      "source": [
        "Now, let's take the proper and more insightful approach: evaluating the model using K-Folds Cross Validation. Complete the code below to evaluate a 5NN model using 10-Folds Cross Validation."
      ],
      "metadata": {
        "id": "wQjc7seRa635"
      }
    },
    {
      "cell_type": "code",
      "source": [
        "knn_5 = KNeighborsClassifier(n_neighbors = 5)\n",
        "\n",
        "scores_5 = cross_val_score(knn_5, X_train, y_train, cv = # COMPLETE THIS CODE\n",
        "print(\"10-Folds CV Scores: \" + str(scores_5.mean()) + \" +/- \" + str(scores_5.std()))"
      ],
      "metadata": {
        "id": "TGABc4bia_Gc"
      },
      "execution_count": null,
      "outputs": []
    },
    {
      "cell_type": "markdown",
      "source": [
        "#### **Step #8: Use the model**\n",
        "\n",
        "Using the model we created, predict the music genre of two new songs.\n",
        "\n",
        "* Song 1: danceability of 0.48, instrumentalness of 0.0021, and loudness of 14.\n",
        "\n",
        "* Song 2: danceability of 0.79, instrumentalness of 0.00036, and loudness of -7.2.\n",
        "\n",
        "**NOTE**: you must create a dataframe containing with the information of the new songs:\n",
        "\n",
        "```python\n",
        "new_song_data = pd.DataFrame(new_song_data, columns =[\"danceability\", \"instrumentalness\", \"loudness\"])\n",
        "```"
      ],
      "metadata": {
        "id": "kGoZURsgmJu1"
      }
    },
    {
      "cell_type": "code",
      "source": [
        "# COMPLETE THIS CODE"
      ],
      "metadata": {
        "id": "LShnE8d-QpbB"
      },
      "execution_count": null,
      "outputs": []
    },
    {
      "cell_type": "code",
      "source": [
        "# COMPLETE THIS CODE"
      ],
      "metadata": {
        "id": "QVW-ZPYoQpM-"
      },
      "execution_count": null,
      "outputs": []
    },
    {
      "cell_type": "markdown",
      "source": [
        "<a name=\"p3\"></a>\n",
        "\n",
        "---\n",
        "## **Part 3: Logistic Regression**\n",
        "---\n",
        "#### **About the Dataset**\n",
        "We've already used the Breast Cancer dataset to create a KNN model for classification; now it's time to create a logistic regression model using it. This dataset contains mammography exam results and whether or not cancer was detected.\n",
        "\n",
        "The features are as follows:\n",
        "* `radius`\n",
        "* `texture`: standard deviation of gray-scale values\n",
        "* `perimeter`\n",
        "* `area`\n",
        "* `smoothness`: local variations in radius lengths\n",
        "* `compactness`: perimeter^2 / area - 1\n",
        "* `concavity`: severity of concave portions of the contour\n",
        "* `concave points`: number of concave portions of the contour\n",
        "* `symmetry`\n",
        "* `fractal dimension`: \"coastline approximation\" - 1\n",
        "\n",
        "Note: There is data recorded for the mean, standard error, and worst (or largest) for each feature, resulting in 30 total features.\n",
        "<br>\n",
        "\n",
        "#### **Your Task**\n",
        "Using the Breast Cancer dataset, we will do the following:\n",
        "* Create a logistic regression model in order to classify breast cancer tumors as malignant (0) or benign (1)."
      ],
      "metadata": {
        "id": "idga37M2FsMR"
      }
    },
    {
      "cell_type": "markdown",
      "source": [
        "### **Step #1: Load the data**\n",
        "\n",
        "Use the following code to load the breast cancer dataset."
      ],
      "metadata": {
        "id": "w_y6J2dod4qL"
      }
    },
    {
      "cell_type": "code",
      "source": [
        "data = load_breast_cancer()\n",
        "\n",
        "df = pd.DataFrame(data.data, columns=data.feature_names)\n",
        "df['target'] = data.target\n",
        "df"
      ],
      "metadata": {
        "id": "pdkqQq0h1TMm"
      },
      "execution_count": null,
      "outputs": []
    },
    {
      "cell_type": "markdown",
      "source": [
        "### **Step #2: Decide independent and dependent variables**\n",
        "\n",
        "We will be using all features except `target` as our independent variables for predicting `target`."
      ],
      "metadata": {
        "id": "k5H4gpFFQP_X"
      }
    },
    {
      "cell_type": "code",
      "source": [
        "X = data.data\n",
        "print(len(X[0]))\n",
        "y = data.target"
      ],
      "metadata": {
        "id": "Z4ytLGQ6QPrN"
      },
      "execution_count": null,
      "outputs": []
    },
    {
      "cell_type": "markdown",
      "source": [
        "### **Step #3: Split the data into train and test sets**"
      ],
      "metadata": {
        "id": "CR-vjxr7eWEf"
      }
    },
    {
      "cell_type": "code",
      "source": [],
      "metadata": {
        "id": "TYCTFDv7hZT6"
      },
      "execution_count": null,
      "outputs": []
    },
    {
      "cell_type": "markdown",
      "source": [
        "### **Step #4: Import the Logistic Regression algorithm**"
      ],
      "metadata": {
        "id": "F24ferHretdr"
      }
    },
    {
      "cell_type": "code",
      "source": [],
      "metadata": {
        "id": "1br90axohZ7N"
      },
      "execution_count": null,
      "outputs": []
    },
    {
      "cell_type": "markdown",
      "source": [
        "### **Step #5: Initialize the model**\n"
      ],
      "metadata": {
        "id": "WK2jPHBjUAu6"
      }
    },
    {
      "cell_type": "code",
      "source": [],
      "metadata": {
        "id": "nYmakHt5UGy5"
      },
      "execution_count": null,
      "outputs": []
    },
    {
      "cell_type": "markdown",
      "source": [
        "### **Step #6: Fit your model and make predictions for the test data**\n"
      ],
      "metadata": {
        "id": "H1F37V2mUA-O"
      }
    },
    {
      "cell_type": "code",
      "source": [
        "#fit\n",
        "\n",
        "y_pred = # COMPLETE THIS LINE\n",
        "\n",
        "y_pred_proba = # COMPLETE THIS LINE\n",
        "\n",
        "y_pred_binary = # COMPLETE THIS LINE"
      ],
      "metadata": {
        "id": "ijleIhixaio8"
      },
      "execution_count": null,
      "outputs": []
    },
    {
      "cell_type": "markdown",
      "source": [
        "### **Step #7: Evaluate the model**\n",
        "\n",
        "Print the classification report. Then, run the code cell below to plot the ROC curve.\n"
      ],
      "metadata": {
        "id": "Siq_BcV_fHH_"
      }
    },
    {
      "cell_type": "code",
      "source": [
        "report = # WRITE YOUR CODE HERE\n",
        "print(report)"
      ],
      "metadata": {
        "id": "EQ6nqybXfn4Y"
      },
      "execution_count": null,
      "outputs": []
    },
    {
      "cell_type": "code",
      "source": [
        "# Plot Sensitivity (TPR) vs 1-Specificity (FPR)\n",
        "from sklearn.metrics import roc_curve\n",
        "import matplotlib.pyplot as plt\n",
        "\n",
        "fpr, tpr, threshold = roc_curve(y_test, y_pred_proba[:, 1])\n",
        "roc_auc = roc_auc_score(y_test, y_pred_proba[:, 1])\n",
        "\n",
        "plt.figure()\n",
        "plt.plot(fpr, tpr, color='darkorange', label='ROC curve (area = %0.4f)' % roc_auc)\n",
        "plt.plot([0, 1], [0, 1], color='navy', lw=2, linestyle='--')\n",
        "plt.xlim([0.0, 1.0])\n",
        "plt.ylim([0.0, 1.05])\n",
        "plt.xlabel('False Positive Rate')\n",
        "plt.ylabel('True Positive Rate')\n",
        "plt.title('Receiver Operating Characteristic')\n",
        "plt.legend(loc=\"lower right\")\n",
        "plt.show()"
      ],
      "metadata": {
        "id": "YuehALvlIM0T"
      },
      "execution_count": null,
      "outputs": []
    },
    {
      "cell_type": "markdown",
      "source": [
        "### **Reflection question**\n",
        "Answer the following question:\n",
        "\n",
        "1. What do the predicted probabilities represent in this context?\n",
        "2. How is the threshold of 0.5 used to convert predicted probabilities into binary predictions?\n",
        "3. What does precision mean for the Benign class in this model?\n",
        "4. Would you trust this model?"
      ],
      "metadata": {
        "id": "omgegSJa9dR9"
      }
    },
    {
      "cell_type": "markdown",
      "source": [
        "---\n",
        "#End of Notebook\n",
        "\n",
        "© 2023 The Coding School, All rights reserved"
      ],
      "metadata": {
        "id": "3-5beQ-sasqV"
      }
    }
  ]
}